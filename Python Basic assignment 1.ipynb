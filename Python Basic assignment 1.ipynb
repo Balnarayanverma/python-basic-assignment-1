{
 "cells": [
  {
   "cell_type": "code",
   "execution_count": null,
   "metadata": {},
   "outputs": [],
   "source": [
    "Question-1\n",
    "Answer-\n",
    "values-\"hello\",-87.8,6,\n",
    "expression- *, - , + ,/\n"
   ]
  },
  {
   "cell_type": "code",
   "execution_count": null,
   "metadata": {},
   "outputs": [],
   "source": [
    "Question-2\n",
    "Answer-\n",
    "string- is a sequence of letters,it is put in the single or double inverted commas\n",
    "variables- it is a space in memory in python where you can put your data types and for that data types we give a variable name.\n",
    "\n",
    "Example-1.  name=\"Balnarayan\"\n",
    "\n",
    "Here example 1 is a variable and (name) is variables name, and \"Balnarayan\" is a string\n",
    "\n",
    "\n"
   ]
  },
  {
   "cell_type": "code",
   "execution_count": null,
   "metadata": {},
   "outputs": [],
   "source": [
    "Question-3\n",
    "Answer-python Data types-\n",
    "\n",
    "Numbers,Bool,set,dict,sequence\n",
    "\n",
    "Numbers can be three types -int(20),float(12.5),and complex(2+3j).\n",
    "\n",
    "Bool-types are two\n",
    "1-True\n",
    "2-False\n",
    "\n",
    "set -{1,2,3,4}\n",
    "\n",
    "Dictionary-{\"a\":1,\"b\":2,\"c\":4,}\n",
    "\n",
    "Sequence- sequence are three types\n",
    "\n",
    "1.string-\"Balnarayan\"\n",
    "2.list- [1,2,3,\"a\"]\n",
    "3.tuple-(1,2,\"b\",)\n",
    "\n",
    "\n",
    "\n"
   ]
  },
  {
   "cell_type": "code",
   "execution_count": null,
   "metadata": {},
   "outputs": [],
   "source": [
    "Question- 4\n",
    "Answer-A valid combination of operators,variables,identifiers,etc in python are called an experatiopn. \n",
    "\n",
    "types of expresson-there are many types of expression in python--\n",
    "1.Arithmetic expression -(expression in python which involves numbers,integers,float,complex and arithmetic operators are called arithmetic expression.\n",
    "\n",
    "2.string expression\n",
    "3.relational expression\n",
    "4.logical expression\n",
    "\n",
    "   all expressions are represent of values\n",
    " \n",
    " >>> 5+2\n",
    " 7\n",
    " >>> 5/2\n",
    " 2.5\n",
    "   "
   ]
  },
  {
   "cell_type": "code",
   "execution_count": null,
   "metadata": {},
   "outputs": [],
   "source": [
    "Question -5\n",
    "Answer-statement are the instructions given to the computer to perform any kind of action.\n",
    "but expression is a valid combination of operators and atoms.an expression is combination of one or more operations\n"
   ]
  },
  {
   "cell_type": "markdown",
   "metadata": {},
   "source": [
    "Question-6\n",
    "Answer-\n",
    "\n",
    "bacon=22\n",
    "bacon+1"
   ]
  },
  {
   "cell_type": "code",
   "execution_count": 2,
   "metadata": {},
   "outputs": [
    {
     "data": {
      "text/plain": [
       "23"
      ]
     },
     "execution_count": 2,
     "metadata": {},
     "output_type": "execute_result"
    }
   ],
   "source": [
    "bacon=22\n",
    "bacon+1"
   ]
  },
  {
   "cell_type": "code",
   "execution_count": 7,
   "metadata": {},
   "outputs": [
    {
     "data": {
      "text/plain": [
       "'spamspamspam'"
      ]
     },
     "execution_count": 7,
     "metadata": {},
     "output_type": "execute_result"
    }
   ],
   "source": [
    "#Question -7\n",
    "#Answer-\n",
    "'spam'+'spamspam'\n",
    "\n"
   ]
  },
  {
   "cell_type": "code",
   "execution_count": 9,
   "metadata": {},
   "outputs": [
    {
     "data": {
      "text/plain": [
       "'spamspamspam'"
      ]
     },
     "execution_count": 9,
     "metadata": {},
     "output_type": "execute_result"
    }
   ],
   "source": [
    "'spam'*3"
   ]
  },
  {
   "cell_type": "code",
   "execution_count": null,
   "metadata": {},
   "outputs": [],
   "source": [
    "Question-8\n",
    "Answer-integers,float,bool can not be a variable name.Variable name is known as identifier. There are few rules that you have to follow while naming the variables in Python.-the variable name can start from either a letter or under score\n",
    "variable name can not start from special character like @,$,& \n"
   ]
  },
  {
   "cell_type": "code",
   "execution_count": 23,
   "metadata": {},
   "outputs": [],
   "source": [
    "#Question-9\n",
    "#Answer -\n",
    "\n",
    "a=100\n",
    "b=12.5\n",
    "c=\"name\"\n"
   ]
  },
  {
   "cell_type": "code",
   "execution_count": 25,
   "metadata": {},
   "outputs": [
    {
     "name": "stdout",
     "output_type": "stream",
     "text": [
      "<class 'int'>\n",
      "<class 'float'>\n",
      "<class 'str'>\n"
     ]
    }
   ],
   "source": [
    "print(type(a))\n",
    "print(type(b))\n",
    "print(type(c))"
   ]
  },
  {
   "cell_type": "code",
   "execution_count": 29,
   "metadata": {},
   "outputs": [
    {
     "data": {
      "text/plain": [
       "'I have eaten 99 burritos'"
      ]
     },
     "execution_count": 29,
     "metadata": {},
     "output_type": "execute_result"
    }
   ],
   "source": [
    "#Question-10\n",
    "#Answer-this is a concatination problm we have to use 99 as a string.\n",
    "A='I have eaten'\" \" + '99'\" \" +  'burritos'\n",
    "A"
   ]
  },
  {
   "cell_type": "code",
   "execution_count": null,
   "metadata": {},
   "outputs": [],
   "source": []
  }
 ],
 "metadata": {
  "kernelspec": {
   "display_name": "Python 3",
   "language": "python",
   "name": "python3"
  },
  "language_info": {
   "codemirror_mode": {
    "name": "ipython",
    "version": 3
   },
   "file_extension": ".py",
   "mimetype": "text/x-python",
   "name": "python",
   "nbconvert_exporter": "python",
   "pygments_lexer": "ipython3",
   "version": "3.8.5"
  }
 },
 "nbformat": 4,
 "nbformat_minor": 4
}
